{
 "cells": [
  {
   "cell_type": "code",
   "execution_count": 88,
   "id": "15590b6c",
   "metadata": {},
   "outputs": [],
   "source": [
    "import pandas as pd\n",
    "import matplotlib.pyplot as plt\n",
    "import numpy as np\n",
    "%matplotlib inline"
   ]
  },
  {
   "cell_type": "code",
   "execution_count": 89,
   "id": "23d336a6",
   "metadata": {},
   "outputs": [
    {
     "data": {
      "text/html": [
       "<div>\n",
       "<style scoped>\n",
       "    .dataframe tbody tr th:only-of-type {\n",
       "        vertical-align: middle;\n",
       "    }\n",
       "\n",
       "    .dataframe tbody tr th {\n",
       "        vertical-align: top;\n",
       "    }\n",
       "\n",
       "    .dataframe thead th {\n",
       "        text-align: right;\n",
       "    }\n",
       "</style>\n",
       "<table border=\"1\" class=\"dataframe\">\n",
       "  <thead>\n",
       "    <tr style=\"text-align: right;\">\n",
       "      <th></th>\n",
       "      <th>RowNumber</th>\n",
       "      <th>CustomerId</th>\n",
       "      <th>Surname</th>\n",
       "      <th>CreditScore</th>\n",
       "      <th>Geography</th>\n",
       "      <th>Gender</th>\n",
       "      <th>Age</th>\n",
       "      <th>Tenure</th>\n",
       "      <th>Balance</th>\n",
       "      <th>NumOfProducts</th>\n",
       "      <th>HasCrCard</th>\n",
       "      <th>IsActiveMember</th>\n",
       "      <th>EstimatedSalary</th>\n",
       "      <th>Exited</th>\n",
       "      <th>Complain</th>\n",
       "      <th>Satisfaction Score</th>\n",
       "      <th>Card Type</th>\n",
       "      <th>Point Earned</th>\n",
       "    </tr>\n",
       "  </thead>\n",
       "  <tbody>\n",
       "    <tr>\n",
       "      <th>9967</th>\n",
       "      <td>9968</td>\n",
       "      <td>15603794</td>\n",
       "      <td>Pugliesi</td>\n",
       "      <td>623</td>\n",
       "      <td>France</td>\n",
       "      <td>Male</td>\n",
       "      <td>48</td>\n",
       "      <td>5</td>\n",
       "      <td>118469.38</td>\n",
       "      <td>1</td>\n",
       "      <td>1</td>\n",
       "      <td>1</td>\n",
       "      <td>158590.25</td>\n",
       "      <td>0</td>\n",
       "      <td>0</td>\n",
       "      <td>4</td>\n",
       "      <td>PLATINUM</td>\n",
       "      <td>346</td>\n",
       "    </tr>\n",
       "    <tr>\n",
       "      <th>6564</th>\n",
       "      <td>6565</td>\n",
       "      <td>15737104</td>\n",
       "      <td>Lawson</td>\n",
       "      <td>652</td>\n",
       "      <td>Germany</td>\n",
       "      <td>Female</td>\n",
       "      <td>47</td>\n",
       "      <td>0</td>\n",
       "      <td>126597.89</td>\n",
       "      <td>2</td>\n",
       "      <td>1</td>\n",
       "      <td>1</td>\n",
       "      <td>38798.79</td>\n",
       "      <td>1</td>\n",
       "      <td>1</td>\n",
       "      <td>1</td>\n",
       "      <td>PLATINUM</td>\n",
       "      <td>696</td>\n",
       "    </tr>\n",
       "    <tr>\n",
       "      <th>5157</th>\n",
       "      <td>5158</td>\n",
       "      <td>15751185</td>\n",
       "      <td>Aparicio</td>\n",
       "      <td>699</td>\n",
       "      <td>Spain</td>\n",
       "      <td>Female</td>\n",
       "      <td>50</td>\n",
       "      <td>0</td>\n",
       "      <td>158633.61</td>\n",
       "      <td>1</td>\n",
       "      <td>1</td>\n",
       "      <td>0</td>\n",
       "      <td>193785.87</td>\n",
       "      <td>0</td>\n",
       "      <td>0</td>\n",
       "      <td>1</td>\n",
       "      <td>SILVER</td>\n",
       "      <td>835</td>\n",
       "    </tr>\n",
       "    <tr>\n",
       "      <th>8523</th>\n",
       "      <td>8524</td>\n",
       "      <td>15567778</td>\n",
       "      <td>Genovese</td>\n",
       "      <td>690</td>\n",
       "      <td>Germany</td>\n",
       "      <td>Female</td>\n",
       "      <td>54</td>\n",
       "      <td>1</td>\n",
       "      <td>144027.80</td>\n",
       "      <td>1</td>\n",
       "      <td>1</td>\n",
       "      <td>1</td>\n",
       "      <td>108731.02</td>\n",
       "      <td>1</td>\n",
       "      <td>1</td>\n",
       "      <td>5</td>\n",
       "      <td>SILVER</td>\n",
       "      <td>480</td>\n",
       "    </tr>\n",
       "    <tr>\n",
       "      <th>2361</th>\n",
       "      <td>2362</td>\n",
       "      <td>15635776</td>\n",
       "      <td>Trevisani</td>\n",
       "      <td>686</td>\n",
       "      <td>Germany</td>\n",
       "      <td>Female</td>\n",
       "      <td>43</td>\n",
       "      <td>5</td>\n",
       "      <td>154846.24</td>\n",
       "      <td>2</td>\n",
       "      <td>1</td>\n",
       "      <td>1</td>\n",
       "      <td>151903.60</td>\n",
       "      <td>0</td>\n",
       "      <td>0</td>\n",
       "      <td>5</td>\n",
       "      <td>DIAMOND</td>\n",
       "      <td>546</td>\n",
       "    </tr>\n",
       "  </tbody>\n",
       "</table>\n",
       "</div>"
      ],
      "text/plain": [
       "      RowNumber  CustomerId    Surname  CreditScore Geography  Gender  Age  \\\n",
       "9967       9968    15603794   Pugliesi          623    France    Male   48   \n",
       "6564       6565    15737104     Lawson          652   Germany  Female   47   \n",
       "5157       5158    15751185   Aparicio          699     Spain  Female   50   \n",
       "8523       8524    15567778   Genovese          690   Germany  Female   54   \n",
       "2361       2362    15635776  Trevisani          686   Germany  Female   43   \n",
       "\n",
       "      Tenure    Balance  NumOfProducts  HasCrCard  IsActiveMember  \\\n",
       "9967       5  118469.38              1          1               1   \n",
       "6564       0  126597.89              2          1               1   \n",
       "5157       0  158633.61              1          1               0   \n",
       "8523       1  144027.80              1          1               1   \n",
       "2361       5  154846.24              2          1               1   \n",
       "\n",
       "      EstimatedSalary  Exited  Complain  Satisfaction Score Card Type  \\\n",
       "9967        158590.25       0         0                   4  PLATINUM   \n",
       "6564         38798.79       1         1                   1  PLATINUM   \n",
       "5157        193785.87       0         0                   1    SILVER   \n",
       "8523        108731.02       1         1                   5    SILVER   \n",
       "2361        151903.60       0         0                   5   DIAMOND   \n",
       "\n",
       "      Point Earned  \n",
       "9967           346  \n",
       "6564           696  \n",
       "5157           835  \n",
       "8523           480  \n",
       "2361           546  "
      ]
     },
     "execution_count": 89,
     "metadata": {},
     "output_type": "execute_result"
    }
   ],
   "source": [
    "df=pd.read_csv(r\"C:\\Users\\OWNER\\Desktop\\VICTOR\\Customer-Churn-Records.csv\")\n",
    "df.sample(5)"
   ]
  },
  {
   "cell_type": "code",
   "execution_count": 90,
   "id": "2dc4e3a8",
   "metadata": {},
   "outputs": [
    {
     "data": {
      "text/html": [
       "<div>\n",
       "<style scoped>\n",
       "    .dataframe tbody tr th:only-of-type {\n",
       "        vertical-align: middle;\n",
       "    }\n",
       "\n",
       "    .dataframe tbody tr th {\n",
       "        vertical-align: top;\n",
       "    }\n",
       "\n",
       "    .dataframe thead th {\n",
       "        text-align: right;\n",
       "    }\n",
       "</style>\n",
       "<table border=\"1\" class=\"dataframe\">\n",
       "  <thead>\n",
       "    <tr style=\"text-align: right;\">\n",
       "      <th></th>\n",
       "      <th>Surname</th>\n",
       "      <th>CreditScore</th>\n",
       "      <th>Geography</th>\n",
       "      <th>Gender</th>\n",
       "      <th>Age</th>\n",
       "      <th>Tenure</th>\n",
       "      <th>Balance</th>\n",
       "      <th>NumOfProducts</th>\n",
       "      <th>HasCrCard</th>\n",
       "      <th>IsActiveMember</th>\n",
       "      <th>EstimatedSalary</th>\n",
       "      <th>Exited</th>\n",
       "      <th>Complain</th>\n",
       "      <th>Satisfaction Score</th>\n",
       "      <th>Card Type</th>\n",
       "      <th>Point Earned</th>\n",
       "    </tr>\n",
       "  </thead>\n",
       "  <tbody>\n",
       "    <tr>\n",
       "      <th>0</th>\n",
       "      <td>Hargrave</td>\n",
       "      <td>619</td>\n",
       "      <td>France</td>\n",
       "      <td>Female</td>\n",
       "      <td>42</td>\n",
       "      <td>2</td>\n",
       "      <td>0.00</td>\n",
       "      <td>1</td>\n",
       "      <td>1</td>\n",
       "      <td>1</td>\n",
       "      <td>101348.88</td>\n",
       "      <td>1</td>\n",
       "      <td>1</td>\n",
       "      <td>2</td>\n",
       "      <td>DIAMOND</td>\n",
       "      <td>464</td>\n",
       "    </tr>\n",
       "    <tr>\n",
       "      <th>1</th>\n",
       "      <td>Hill</td>\n",
       "      <td>608</td>\n",
       "      <td>Spain</td>\n",
       "      <td>Female</td>\n",
       "      <td>41</td>\n",
       "      <td>1</td>\n",
       "      <td>83807.86</td>\n",
       "      <td>1</td>\n",
       "      <td>0</td>\n",
       "      <td>1</td>\n",
       "      <td>112542.58</td>\n",
       "      <td>0</td>\n",
       "      <td>1</td>\n",
       "      <td>3</td>\n",
       "      <td>DIAMOND</td>\n",
       "      <td>456</td>\n",
       "    </tr>\n",
       "    <tr>\n",
       "      <th>2</th>\n",
       "      <td>Onio</td>\n",
       "      <td>502</td>\n",
       "      <td>France</td>\n",
       "      <td>Female</td>\n",
       "      <td>42</td>\n",
       "      <td>8</td>\n",
       "      <td>159660.80</td>\n",
       "      <td>3</td>\n",
       "      <td>1</td>\n",
       "      <td>0</td>\n",
       "      <td>113931.57</td>\n",
       "      <td>1</td>\n",
       "      <td>1</td>\n",
       "      <td>3</td>\n",
       "      <td>DIAMOND</td>\n",
       "      <td>377</td>\n",
       "    </tr>\n",
       "    <tr>\n",
       "      <th>3</th>\n",
       "      <td>Boni</td>\n",
       "      <td>699</td>\n",
       "      <td>France</td>\n",
       "      <td>Female</td>\n",
       "      <td>39</td>\n",
       "      <td>1</td>\n",
       "      <td>0.00</td>\n",
       "      <td>2</td>\n",
       "      <td>0</td>\n",
       "      <td>0</td>\n",
       "      <td>93826.63</td>\n",
       "      <td>0</td>\n",
       "      <td>0</td>\n",
       "      <td>5</td>\n",
       "      <td>GOLD</td>\n",
       "      <td>350</td>\n",
       "    </tr>\n",
       "    <tr>\n",
       "      <th>4</th>\n",
       "      <td>Mitchell</td>\n",
       "      <td>850</td>\n",
       "      <td>Spain</td>\n",
       "      <td>Female</td>\n",
       "      <td>43</td>\n",
       "      <td>2</td>\n",
       "      <td>125510.82</td>\n",
       "      <td>1</td>\n",
       "      <td>1</td>\n",
       "      <td>1</td>\n",
       "      <td>79084.10</td>\n",
       "      <td>0</td>\n",
       "      <td>0</td>\n",
       "      <td>5</td>\n",
       "      <td>GOLD</td>\n",
       "      <td>425</td>\n",
       "    </tr>\n",
       "  </tbody>\n",
       "</table>\n",
       "</div>"
      ],
      "text/plain": [
       "    Surname  CreditScore Geography  Gender  Age  Tenure    Balance  \\\n",
       "0  Hargrave          619    France  Female   42       2       0.00   \n",
       "1      Hill          608     Spain  Female   41       1   83807.86   \n",
       "2      Onio          502    France  Female   42       8  159660.80   \n",
       "3      Boni          699    France  Female   39       1       0.00   \n",
       "4  Mitchell          850     Spain  Female   43       2  125510.82   \n",
       "\n",
       "   NumOfProducts  HasCrCard  IsActiveMember  EstimatedSalary  Exited  \\\n",
       "0              1          1               1        101348.88       1   \n",
       "1              1          0               1        112542.58       0   \n",
       "2              3          1               0        113931.57       1   \n",
       "3              2          0               0         93826.63       0   \n",
       "4              1          1               1         79084.10       0   \n",
       "\n",
       "   Complain  Satisfaction Score Card Type  Point Earned  \n",
       "0         1                   2   DIAMOND           464  \n",
       "1         1                   3   DIAMOND           456  \n",
       "2         1                   3   DIAMOND           377  \n",
       "3         0                   5      GOLD           350  \n",
       "4         0                   5      GOLD           425  "
      ]
     },
     "execution_count": 90,
     "metadata": {},
     "output_type": "execute_result"
    }
   ],
   "source": [
    "df.drop([\"CustomerId\",\"RowNumber\"],axis=\"columns\",inplace=True)\n",
    "df.head(5)"
   ]
  },
  {
   "cell_type": "code",
   "execution_count": 91,
   "id": "36d9d850",
   "metadata": {},
   "outputs": [
    {
     "data": {
      "text/plain": [
       "Surname                object\n",
       "CreditScore             int64\n",
       "Geography              object\n",
       "Gender                 object\n",
       "Age                     int64\n",
       "Tenure                  int64\n",
       "Balance               float64\n",
       "NumOfProducts           int64\n",
       "HasCrCard               int64\n",
       "IsActiveMember          int64\n",
       "EstimatedSalary       float64\n",
       "Exited                  int64\n",
       "Complain                int64\n",
       "Satisfaction Score      int64\n",
       "Card Type              object\n",
       "Point Earned            int64\n",
       "dtype: object"
      ]
     },
     "execution_count": 91,
     "metadata": {},
     "output_type": "execute_result"
    }
   ],
   "source": [
    "df.dtypes"
   ]
  },
  {
   "cell_type": "code",
   "execution_count": 92,
   "id": "5e058ade",
   "metadata": {},
   "outputs": [
    {
     "data": {
      "text/plain": [
       "Surname               0\n",
       "CreditScore           0\n",
       "Geography             0\n",
       "Gender                0\n",
       "Age                   0\n",
       "Tenure                0\n",
       "Balance               0\n",
       "NumOfProducts         0\n",
       "HasCrCard             0\n",
       "IsActiveMember        0\n",
       "EstimatedSalary       0\n",
       "Exited                0\n",
       "Complain              0\n",
       "Satisfaction Score    0\n",
       "Card Type             0\n",
       "Point Earned          0\n",
       "dtype: int64"
      ]
     },
     "execution_count": 92,
     "metadata": {},
     "output_type": "execute_result"
    }
   ],
   "source": [
    "df.isnull().sum()"
   ]
  },
  {
   "cell_type": "code",
   "execution_count": 93,
   "id": "ffa4eb2f",
   "metadata": {},
   "outputs": [
    {
     "data": {
      "text/plain": [
       "(10000, 16)"
      ]
     },
     "execution_count": 93,
     "metadata": {},
     "output_type": "execute_result"
    }
   ],
   "source": [
    "df.shape"
   ]
  },
  {
   "cell_type": "code",
   "execution_count": 94,
   "id": "8afbae9d",
   "metadata": {},
   "outputs": [],
   "source": [
    "def print_unique_col_value(df):\n",
    "    for column in df:\n",
    "        if df[column].dtypes==\"object\":\n",
    "            print(f\"{column}: {df[column].unique()}\")"
   ]
  },
  {
   "cell_type": "code",
   "execution_count": 95,
   "id": "0630c09e",
   "metadata": {},
   "outputs": [
    {
     "name": "stdout",
     "output_type": "stream",
     "text": [
      "Surname: ['Hargrave' 'Hill' 'Onio' ... 'Kashiwagi' 'Aldridge' 'Burbidge']\n",
      "Geography: ['France' 'Spain' 'Germany']\n",
      "Gender: ['Female' 'Male']\n",
      "Card Type: ['DIAMOND' 'GOLD' 'SILVER' 'PLATINUM']\n"
     ]
    }
   ],
   "source": [
    "print_unique_col_value(df)"
   ]
  },
  {
   "cell_type": "code",
   "execution_count": 96,
   "id": "cae31576",
   "metadata": {},
   "outputs": [
    {
     "data": {
      "text/plain": [
       "Smith       32\n",
       "Scott       29\n",
       "Martin      29\n",
       "Walker      28\n",
       "Brown       26\n",
       "            ..\n",
       "Izmailov     1\n",
       "Bold         1\n",
       "Bonham       1\n",
       "Poninski     1\n",
       "Burbidge     1\n",
       "Name: Surname, Length: 2932, dtype: int64"
      ]
     },
     "execution_count": 96,
     "metadata": {},
     "output_type": "execute_result"
    }
   ],
   "source": [
    "df[\"Surname\"].value_counts()"
   ]
  },
  {
   "cell_type": "code",
   "execution_count": 97,
   "id": "94453c0c",
   "metadata": {},
   "outputs": [
    {
     "data": {
      "text/plain": [
       "Index(['Surname', 'CreditScore', 'Geography', 'Gender', 'Age', 'Tenure',\n",
       "       'Balance', 'NumOfProducts', 'HasCrCard', 'IsActiveMember',\n",
       "       'EstimatedSalary', 'Exited', 'Complain', 'Satisfaction Score',\n",
       "       'Card Type', 'Point Earned'],\n",
       "      dtype='object')"
      ]
     },
     "execution_count": 97,
     "metadata": {},
     "output_type": "execute_result"
    }
   ],
   "source": [
    "df.columns"
   ]
  },
  {
   "cell_type": "code",
   "execution_count": 98,
   "id": "552dcaed",
   "metadata": {},
   "outputs": [],
   "source": [
    "df.drop(\"Surname\",axis=\"columns\",inplace=True)"
   ]
  },
  {
   "cell_type": "code",
   "execution_count": 99,
   "id": "62ae0639",
   "metadata": {},
   "outputs": [
    {
     "name": "stdout",
     "output_type": "stream",
     "text": [
      "Geography: ['France' 'Spain' 'Germany']\n",
      "Gender: ['Female' 'Male']\n",
      "Card Type: ['DIAMOND' 'GOLD' 'SILVER' 'PLATINUM']\n"
     ]
    }
   ],
   "source": [
    "print_unique_col_value(df)"
   ]
  },
  {
   "cell_type": "code",
   "execution_count": 100,
   "id": "c92ac5d7",
   "metadata": {},
   "outputs": [],
   "source": [
    "columns=[\"Geography\",\"Gender\",\"Card Type\"]"
   ]
  },
  {
   "cell_type": "code",
   "execution_count": 101,
   "id": "161d6cfb",
   "metadata": {},
   "outputs": [
    {
     "data": {
      "text/plain": [
       "Index(['CreditScore', 'Age', 'Tenure', 'Balance', 'NumOfProducts', 'HasCrCard',\n",
       "       'IsActiveMember', 'EstimatedSalary', 'Exited', 'Complain',\n",
       "       'Satisfaction Score', 'Point Earned', 'Geography_France',\n",
       "       'Geography_Germany', 'Geography_Spain', 'Gender_Female', 'Gender_Male',\n",
       "       'Card Type_DIAMOND', 'Card Type_GOLD', 'Card Type_PLATINUM',\n",
       "       'Card Type_SILVER'],\n",
       "      dtype='object')"
      ]
     },
     "execution_count": 101,
     "metadata": {},
     "output_type": "execute_result"
    }
   ],
   "source": [
    "df1=pd.get_dummies(data=df,columns=columns)\n",
    "df1.columns"
   ]
  },
  {
   "cell_type": "code",
   "execution_count": 102,
   "id": "062756aa",
   "metadata": {},
   "outputs": [
    {
     "data": {
      "text/html": [
       "<div>\n",
       "<style scoped>\n",
       "    .dataframe tbody tr th:only-of-type {\n",
       "        vertical-align: middle;\n",
       "    }\n",
       "\n",
       "    .dataframe tbody tr th {\n",
       "        vertical-align: top;\n",
       "    }\n",
       "\n",
       "    .dataframe thead th {\n",
       "        text-align: right;\n",
       "    }\n",
       "</style>\n",
       "<table border=\"1\" class=\"dataframe\">\n",
       "  <thead>\n",
       "    <tr style=\"text-align: right;\">\n",
       "      <th></th>\n",
       "      <th>CreditScore</th>\n",
       "      <th>Age</th>\n",
       "      <th>Tenure</th>\n",
       "      <th>Balance</th>\n",
       "      <th>NumOfProducts</th>\n",
       "      <th>HasCrCard</th>\n",
       "      <th>IsActiveMember</th>\n",
       "      <th>EstimatedSalary</th>\n",
       "      <th>Exited</th>\n",
       "      <th>Complain</th>\n",
       "      <th>...</th>\n",
       "      <th>Point Earned</th>\n",
       "      <th>Geography_France</th>\n",
       "      <th>Geography_Germany</th>\n",
       "      <th>Geography_Spain</th>\n",
       "      <th>Gender_Female</th>\n",
       "      <th>Gender_Male</th>\n",
       "      <th>Card Type_DIAMOND</th>\n",
       "      <th>Card Type_GOLD</th>\n",
       "      <th>Card Type_PLATINUM</th>\n",
       "      <th>Card Type_SILVER</th>\n",
       "    </tr>\n",
       "  </thead>\n",
       "  <tbody>\n",
       "    <tr>\n",
       "      <th>8650</th>\n",
       "      <td>637</td>\n",
       "      <td>27</td>\n",
       "      <td>1</td>\n",
       "      <td>0.00</td>\n",
       "      <td>2</td>\n",
       "      <td>1</td>\n",
       "      <td>0</td>\n",
       "      <td>91291.20</td>\n",
       "      <td>0</td>\n",
       "      <td>0</td>\n",
       "      <td>...</td>\n",
       "      <td>304</td>\n",
       "      <td>1</td>\n",
       "      <td>0</td>\n",
       "      <td>0</td>\n",
       "      <td>0</td>\n",
       "      <td>1</td>\n",
       "      <td>0</td>\n",
       "      <td>1</td>\n",
       "      <td>0</td>\n",
       "      <td>0</td>\n",
       "    </tr>\n",
       "    <tr>\n",
       "      <th>5989</th>\n",
       "      <td>668</td>\n",
       "      <td>53</td>\n",
       "      <td>10</td>\n",
       "      <td>110240.04</td>\n",
       "      <td>1</td>\n",
       "      <td>0</td>\n",
       "      <td>0</td>\n",
       "      <td>183980.56</td>\n",
       "      <td>1</td>\n",
       "      <td>1</td>\n",
       "      <td>...</td>\n",
       "      <td>682</td>\n",
       "      <td>1</td>\n",
       "      <td>0</td>\n",
       "      <td>0</td>\n",
       "      <td>1</td>\n",
       "      <td>0</td>\n",
       "      <td>0</td>\n",
       "      <td>0</td>\n",
       "      <td>0</td>\n",
       "      <td>1</td>\n",
       "    </tr>\n",
       "    <tr>\n",
       "      <th>2763</th>\n",
       "      <td>706</td>\n",
       "      <td>47</td>\n",
       "      <td>6</td>\n",
       "      <td>120621.89</td>\n",
       "      <td>1</td>\n",
       "      <td>1</td>\n",
       "      <td>1</td>\n",
       "      <td>140803.70</td>\n",
       "      <td>0</td>\n",
       "      <td>0</td>\n",
       "      <td>...</td>\n",
       "      <td>870</td>\n",
       "      <td>0</td>\n",
       "      <td>1</td>\n",
       "      <td>0</td>\n",
       "      <td>1</td>\n",
       "      <td>0</td>\n",
       "      <td>1</td>\n",
       "      <td>0</td>\n",
       "      <td>0</td>\n",
       "      <td>0</td>\n",
       "    </tr>\n",
       "    <tr>\n",
       "      <th>9578</th>\n",
       "      <td>662</td>\n",
       "      <td>34</td>\n",
       "      <td>2</td>\n",
       "      <td>117731.79</td>\n",
       "      <td>2</td>\n",
       "      <td>0</td>\n",
       "      <td>1</td>\n",
       "      <td>55120.79</td>\n",
       "      <td>0</td>\n",
       "      <td>0</td>\n",
       "      <td>...</td>\n",
       "      <td>792</td>\n",
       "      <td>1</td>\n",
       "      <td>0</td>\n",
       "      <td>0</td>\n",
       "      <td>0</td>\n",
       "      <td>1</td>\n",
       "      <td>0</td>\n",
       "      <td>1</td>\n",
       "      <td>0</td>\n",
       "      <td>0</td>\n",
       "    </tr>\n",
       "    <tr>\n",
       "      <th>1681</th>\n",
       "      <td>681</td>\n",
       "      <td>32</td>\n",
       "      <td>3</td>\n",
       "      <td>0.00</td>\n",
       "      <td>2</td>\n",
       "      <td>1</td>\n",
       "      <td>1</td>\n",
       "      <td>59679.90</td>\n",
       "      <td>0</td>\n",
       "      <td>0</td>\n",
       "      <td>...</td>\n",
       "      <td>526</td>\n",
       "      <td>0</td>\n",
       "      <td>0</td>\n",
       "      <td>1</td>\n",
       "      <td>1</td>\n",
       "      <td>0</td>\n",
       "      <td>0</td>\n",
       "      <td>0</td>\n",
       "      <td>0</td>\n",
       "      <td>1</td>\n",
       "    </tr>\n",
       "  </tbody>\n",
       "</table>\n",
       "<p>5 rows × 21 columns</p>\n",
       "</div>"
      ],
      "text/plain": [
       "      CreditScore  Age  Tenure    Balance  NumOfProducts  HasCrCard  \\\n",
       "8650          637   27       1       0.00              2          1   \n",
       "5989          668   53      10  110240.04              1          0   \n",
       "2763          706   47       6  120621.89              1          1   \n",
       "9578          662   34       2  117731.79              2          0   \n",
       "1681          681   32       3       0.00              2          1   \n",
       "\n",
       "      IsActiveMember  EstimatedSalary  Exited  Complain  ...  Point Earned  \\\n",
       "8650               0         91291.20       0         0  ...           304   \n",
       "5989               0        183980.56       1         1  ...           682   \n",
       "2763               1        140803.70       0         0  ...           870   \n",
       "9578               1         55120.79       0         0  ...           792   \n",
       "1681               1         59679.90       0         0  ...           526   \n",
       "\n",
       "      Geography_France  Geography_Germany  Geography_Spain  Gender_Female  \\\n",
       "8650                 1                  0                0              0   \n",
       "5989                 1                  0                0              1   \n",
       "2763                 0                  1                0              1   \n",
       "9578                 1                  0                0              0   \n",
       "1681                 0                  0                1              1   \n",
       "\n",
       "      Gender_Male  Card Type_DIAMOND  Card Type_GOLD  Card Type_PLATINUM  \\\n",
       "8650            1                  0               1                   0   \n",
       "5989            0                  0               0                   0   \n",
       "2763            0                  1               0                   0   \n",
       "9578            1                  0               1                   0   \n",
       "1681            0                  0               0                   0   \n",
       "\n",
       "      Card Type_SILVER  \n",
       "8650                 0  \n",
       "5989                 1  \n",
       "2763                 0  \n",
       "9578                 0  \n",
       "1681                 1  \n",
       "\n",
       "[5 rows x 21 columns]"
      ]
     },
     "execution_count": 102,
     "metadata": {},
     "output_type": "execute_result"
    }
   ],
   "source": [
    "df1.sample(5)"
   ]
  },
  {
   "cell_type": "code",
   "execution_count": 103,
   "id": "ff98bc63",
   "metadata": {},
   "outputs": [
    {
     "data": {
      "text/plain": [
       "CreditScore             int64\n",
       "Age                     int64\n",
       "Tenure                  int64\n",
       "Balance               float64\n",
       "NumOfProducts           int64\n",
       "HasCrCard               int64\n",
       "IsActiveMember          int64\n",
       "EstimatedSalary       float64\n",
       "Exited                  int64\n",
       "Complain                int64\n",
       "Satisfaction Score      int64\n",
       "Point Earned            int64\n",
       "Geography_France        uint8\n",
       "Geography_Germany       uint8\n",
       "Geography_Spain         uint8\n",
       "Gender_Female           uint8\n",
       "Gender_Male             uint8\n",
       "Card Type_DIAMOND       uint8\n",
       "Card Type_GOLD          uint8\n",
       "Card Type_PLATINUM      uint8\n",
       "Card Type_SILVER        uint8\n",
       "dtype: object"
      ]
     },
     "execution_count": 103,
     "metadata": {},
     "output_type": "execute_result"
    }
   ],
   "source": [
    "df1.dtypes"
   ]
  },
  {
   "cell_type": "code",
   "execution_count": 104,
   "id": "dcae5296",
   "metadata": {},
   "outputs": [
    {
     "data": {
      "text/plain": [
       "Index(['CreditScore', 'Age', 'Tenure', 'Balance', 'NumOfProducts', 'HasCrCard',\n",
       "       'IsActiveMember', 'EstimatedSalary', 'Exited', 'Complain',\n",
       "       'Satisfaction Score', 'Point Earned', 'Geography_France',\n",
       "       'Geography_Germany', 'Geography_Spain', 'Gender_Female', 'Gender_Male',\n",
       "       'Card Type_DIAMOND', 'Card Type_GOLD', 'Card Type_PLATINUM',\n",
       "       'Card Type_SILVER'],\n",
       "      dtype='object')"
      ]
     },
     "execution_count": 104,
     "metadata": {},
     "output_type": "execute_result"
    }
   ],
   "source": [
    "df1.columns"
   ]
  },
  {
   "cell_type": "code",
   "execution_count": 105,
   "id": "3d20d7bc",
   "metadata": {},
   "outputs": [],
   "source": [
    "col_to_scale=['CreditScore', 'Age', 'Tenure', 'Balance', 'NumOfProducts','EstimatedSalary' , 'Complain', 'Satisfaction Score', 'Point Earned']"
   ]
  },
  {
   "cell_type": "code",
   "execution_count": 106,
   "id": "9fb024fa",
   "metadata": {},
   "outputs": [],
   "source": [
    "from sklearn.preprocessing import MinMaxScaler\n",
    "scaler=MinMaxScaler()\n",
    "df1[col_to_scale]=scaler.fit_transform(df1[col_to_scale])"
   ]
  },
  {
   "cell_type": "code",
   "execution_count": 107,
   "id": "4af9f808",
   "metadata": {},
   "outputs": [
    {
     "name": "stdout",
     "output_type": "stream",
     "text": [
      "CreditScore: [0.538 0.516 0.304 0.698 1.    0.59  0.944 0.052 0.302 0.668 0.356 0.294\n",
      " 0.252 0.398 0.57  0.532 0.606 0.474 0.752 0.764 0.572 0.32  0.638 0.992\n",
      " 0.454 0.812 0.442 0.448 0.122 0.482 0.366 0.406 0.34  0.744 0.25  0.28\n",
      " 0.908 0.464 0.244 0.23  0.412 0.968 0.62  0.852 0.958 0.574 0.4   0.696\n",
      " 0.47  0.876 0.61  0.502 0.612 0.75  0.322 0.528 0.784 0.674 0.41  0.506\n",
      " 0.802 0.462 0.77  0.622 0.65  0.776 0.926 0.614 0.508 0.338 0.628 0.656\n",
      " 0.814 0.132 0.63  0.854 0.386 0.312 0.286 0.604 0.8   0.758 0.592 0.594\n",
      " 0.916 0.348 0.838 0.76  0.33  0.846 0.928 0.72  0.126 0.546 0.64  0.544\n",
      " 0.87  0.51  0.258 0.67  0.376 0.424 0.742 0.556 0.636 0.956 0.648 0.55\n",
      " 0.164 0.84  0.816 0.89  0.672 0.878 0.478 0.222 0.468 0.458 0.626 0.664\n",
      " 0.886 0.682 0.27  0.6   0.808 0.37  0.732 0.378 0.712 0.472 0.562 0.734\n",
      " 0.9   0.666 0.708 0.53  0.634 0.268 0.26  0.456 0.324 0.512 0.494 0.856\n",
      " 0.328 0.35  0.73  0.46  0.914 0.342 0.818 0.332 0.722 0.536 0.586 0.642\n",
      " 0.678 0.54  0.652 0.444 0.69  0.484 0.434 0.688 0.394 0.488 0.646 0.52\n",
      " 0.834 0.826 0.724 0.706 0.624 0.618 0.346 0.844 0.39  0.568 0.778 0.842\n",
      " 0.662 0.388 0.692 0.832 0.754 0.686 0.414 0.362 0.296 0.602 0.882 0.766\n",
      " 0.922 0.714 0.728 0.864 0.85  0.898 0.504 0.788 0.476 0.794 0.466 0.554\n",
      " 0.762 0.558 0.176 0.584 0.912 0.248 0.418 0.158 0.66  0.798 0.768 0.588\n",
      " 0.552 0.598 0.91  0.736 0.98  0.56  0.608 0.824 0.436 0.526 0.344 0.774\n",
      " 0.596 0.186 0.58  0.38  0.22  0.486 0.902 0.522 0.904 0.79  0.266 0.68\n",
      " 0.284 0.718 0.71  0.42  0.804 0.702 0.374 0.274 0.492 0.704 0.272 0.748\n",
      " 0.396 0.228 0.88  0.368 0.796 0.288 0.48  0.236 0.318 0.936 0.932 0.372\n",
      " 0.806 0.848 0.542 0.438 0.616 0.896 0.582 0.384 0.684 0.578 0.83  0.44\n",
      " 0.576 0.498 0.564 0.858 0.354 0.428 0.966 0.308 0.984 0.316 0.134 0.496\n",
      " 0.782 0.514 0.822 0.996 0.392 0.178 0.81  0.82  0.352 0.726 0.7   0.632\n",
      " 0.432 0.29  0.676 0.524 0.254 0.154 0.978 0.938 0.74  0.218 0.306 0.548\n",
      " 0.358 0.426 0.264 0.892 0.19  0.792 0.872 0.408 0.644 0.874 0.298 0.988\n",
      " 0.2   0.93  0.976 0.906 0.772 0.566 0.5   0.658 0.334 0.884 0.786 0.276\n",
      " 0.142 0.982 0.716 0.314 0.31  0.212 0.17  0.422 0.336 0.43  0.756 0.868\n",
      " 0.404 0.518 0.828 0.694 0.746 0.402 0.188 0.738 0.292 0.382 0.96  0.924\n",
      " 0.654 0.14  0.49  0.534 0.918 0.3   0.952 0.168 0.326 0.256 0.894 0.026\n",
      " 0.098 0.226 0.86  0.204 0.45  0.974 0.888 0.948 0.156 0.946 0.862 0.998\n",
      " 0.278 0.162 0.214 0.836 0.962 0.018 0.94  0.446 0.452 0.416 0.934 0.198\n",
      " 0.18  0.13  0.942 0.36  0.    0.192 0.15  0.78  0.262 0.866 0.016 0.99\n",
      " 0.202 0.216 0.238 0.146 0.108 0.972 0.246 0.97  0.232 0.282 0.002 0.954\n",
      " 0.986 0.03  0.364 0.128 0.206 0.242 0.102 0.92  0.964 0.24  0.194 0.144\n",
      " 0.95  0.16  0.172 0.152 0.116 0.994 0.136 0.174 0.12  0.208 0.114 0.21\n",
      " 0.224 0.072 0.11  0.066 0.09  0.234 0.166 0.184 0.148 0.196 0.182 0.034\n",
      " 0.124 0.064 0.046 0.138]\n",
      "Age: [0.32432432 0.31081081 0.28378378 0.33783784 0.35135135 0.43243243\n",
      " 0.14864865 0.12162162 0.17567568 0.08108108 0.21621622 0.09459459\n",
      " 0.22972973 0.36486486 0.54054054 0.18918919 0.27027027 0.37837838\n",
      " 0.24324324 0.2027027  0.2972973  0.44594595 0.58108108 0.41891892\n",
      " 0.25675676 0.01351351 0.64864865 0.51351351 0.10810811 0.04054054\n",
      " 0.5        0.77027027 0.05405405 0.16216216 0.13513514 0.63513514\n",
      " 0.40540541 0.45945946 0.52702703 0.74324324 0.39189189 0.48648649\n",
      " 0.72972973 0.02702703 0.66216216 0.82432432 0.59459459 0.47297297\n",
      " 0.83783784 0.55405405 0.67567568 0.06756757 0.56756757 0.7027027\n",
      " 0.60810811 0.62162162 0.         0.86486486 0.68918919 0.75675676\n",
      " 0.71621622 0.78378378 0.7972973  0.94594595 0.90540541 0.89189189\n",
      " 0.81081081 0.85135135 1.         0.87837838]\n",
      "Tenure: [0.2 0.1 0.8 0.7 0.4 0.6 0.3 1.  0.5 0.9 0. ]\n",
      "Balance: [0.         0.33403148 0.63635718 ... 0.22865702 0.29922631 0.51870777]\n",
      "NumOfProducts: [0.         0.66666667 0.33333333 1.        ]\n",
      "HasCrCard: [1 0]\n",
      "IsActiveMember: [1 0]\n",
      "EstimatedSalary: [0.50673489 0.56270874 0.56965435 ... 0.21039009 0.46442905 0.19091423]\n",
      "Exited: [1 0]\n",
      "Complain: [1. 0.]\n",
      "Satisfaction Score: [0.25 0.5  1.   0.75 0.  ]\n",
      "Point Earned: [0.39160045 0.38251986 0.29284904 0.26220204 0.34733258 0.41430193\n",
      " 0.09875142 0.18501703 0.14982974 0.25312145 0.1645857  0.14755959\n",
      " 0.         0.48808173 0.22587968 0.21452894 0.04994325 0.48240636\n",
      " 0.69580023 0.40635641 0.50964813 0.24631101 0.87173666 0.61975028\n",
      " 0.12031782 0.61293984 0.13280363 0.37343927 0.43132804 0.25425653\n",
      " 0.20317821 0.57775255 0.5584563  0.91146425 0.17820658 0.86038593\n",
      " 0.39954597 0.99318956 0.93643587 0.34052213 0.48354143 0.80476731\n",
      " 0.76049943 0.50851305 0.86833144 0.20090806 0.74914869 0.69353008\n",
      " 0.95459705 0.16912599 0.80590238 0.97956867 0.61066969 0.11577753\n",
      " 0.32576617 0.94778661 0.79909194 0.73779796 0.41089671 0.88989784\n",
      " 0.86606129 0.29511918 0.39727582 0.64018161 0.73893303 0.98297389\n",
      " 0.68785471 0.15891033 0.97616345 0.98637911 0.81044268 0.4631101\n",
      " 0.11464245 0.98070375 0.52553916 0.18388195 0.7707151  0.90578888\n",
      " 0.15437003 0.44494892 0.43019296 0.60385925 0.83200908 0.78093076\n",
      " 0.3984109  0.7185017  0.49943246 0.29057889 0.33144154 0.68444949\n",
      " 0.12712826 0.41884222 0.96027242 0.19296254 0.37457435 0.45516459\n",
      " 0.13053348 0.38479001 0.90351873 0.20431328 0.81611805 0.75709421\n",
      " 0.44267877 0.23723042 0.25879682 0.47105562 0.66969353 0.71509648\n",
      " 0.47900114 0.70034052 0.46538025 0.53916005 0.38933031 0.35187287\n",
      " 0.28490352 0.44381385 0.58910329 0.67990919 0.36095346 0.415437\n",
      " 0.33030647 0.62088536 0.54029512 0.52099886 0.80817253 0.42905789\n",
      " 0.28944381 0.78887628 0.14528944 0.90011351 0.86719637 0.32122588\n",
      " 0.73212259 0.55505108 0.60499432 0.77298524 0.65607264 0.34960272\n",
      " 0.56867196 0.66061294 0.94665153 0.58569807 0.14869467 0.61634506\n",
      " 0.65834279 0.8354143  0.30533485 0.55959137 0.77412032 0.50170261\n",
      " 0.59477866 0.79341657 0.7446084  0.85471056 0.35868331 0.33598184\n",
      " 0.35300795 0.91940976 0.63791146 0.78433598 0.70374574 0.18274688\n",
      " 0.98978434 0.41203178 0.34506243 0.1600454  0.59364359 0.51191827\n",
      " 0.76163451 0.69012486 0.89670829 0.77185017 0.84222474 0.446084\n",
      " 0.40749149 0.56299659 0.2292849  0.68898978 0.45062429 0.59023837\n",
      " 0.14188422 0.19636776 0.1430193  0.82746879 0.97048808 0.9523269\n",
      " 0.57888763 0.21679909 0.56980704 0.91373439 0.27241771 0.78547106\n",
      " 0.52667423 0.95346198 0.8876277  0.69239501 0.723042   0.85584563\n",
      " 0.84676504 0.64812713 0.47219069 0.52326901 0.92054484 0.93530079\n",
      " 0.14642452 0.73098751 0.56753689 0.79001135 0.50737798 0.74347333\n",
      " 0.6538025  0.88876277 0.46878547 0.88081725 0.24290579 0.84790011\n",
      " 0.62656073 0.62542565 0.73666288 0.50624291 0.41316686 0.91600454\n",
      " 0.92281498 0.88535755 0.39500568 0.67877412 0.67763905 0.60272418\n",
      " 0.65153235 0.72644722 0.93870602 0.39273553 0.54597049 0.2122588\n",
      " 0.71282633 0.3461975  0.90124858 0.71736663 0.11350738 0.53121453\n",
      " 0.18047673 0.46197503 0.58229285 0.20658343 0.77979569 0.50397276\n",
      " 0.62429058 0.45175936 0.62883087 0.78320091 0.38706016 0.74687855\n",
      " 0.81498297 0.7014756  0.41657208 0.15096481 0.17707151 0.27468785\n",
      " 0.26447219 0.24744608 0.54256527 0.29738933 0.62315551 0.42678774\n",
      " 0.29398411 0.69466515 0.12599319 0.90805902 0.59250851 0.38365494\n",
      " 0.82860386 0.68217934 0.22474461 0.17026107 0.30874007 0.28830874\n",
      " 0.13393871 0.59704881 0.57321226 0.11918275 0.68558456 0.96935301\n",
      " 0.39046538 0.15209989 0.138479   0.47446084 0.24177072 0.30760499\n",
      " 0.13734393 0.97502838 0.28036322 0.26901249 0.89443814 0.64472191\n",
      " 0.66288309 0.52213394 0.76503973 0.19523269 0.94438138 0.94551646\n",
      " 0.56413167 0.66628831 0.49148695 0.26333712 0.89330306 0.87060159\n",
      " 0.35414302 0.27582293 0.21566402 0.44721907 0.2077185  0.83881952\n",
      " 0.48127128 0.9307605  0.76958002 0.70828604 0.73552781 0.14415437\n",
      " 0.40976163 0.66855846 0.80363224 0.39614075 0.45856981 0.50056754\n",
      " 0.46651532 0.2814983  0.31101022 0.84108967 0.51872872 0.31441544\n",
      " 0.8569807  0.63677639 0.22701476 0.75141884 0.90692395 0.25085131\n",
      " 0.57434733 0.91259932 0.8399546  0.7661748  0.66174801 0.79114642\n",
      " 0.32349603 0.9738933  0.34846765 0.28263337 0.16118048 0.56186152\n",
      " 0.73325766 0.95573212 0.25652667 0.23950057 0.84449489 0.28603859\n",
      " 0.92849035 0.95005675 0.42792281 0.91713961 0.4892168  0.34165721\n",
      " 0.72758229 0.43246311 0.82973893 0.63450624 0.48581158 0.13507378\n",
      " 0.22133939 0.15664018 0.47786606 0.24063564 0.7877412  0.1816118\n",
      " 0.64245176 0.88422247 0.3938706  0.72417707 0.37911464 0.65266742\n",
      " 0.20998865 0.58342792 0.98751419 0.92735528 0.64699205 0.16799092\n",
      " 0.56072645 0.52894438 0.37797957 0.27128263 0.7400681  0.2553916\n",
      " 0.3246311  0.32803632 0.43586833 0.86492622 0.72531215 0.276958\n",
      " 0.96481271 0.32236095 0.97729852 0.1861521  0.26674234 0.92962543\n",
      " 0.71963678 0.70715096 0.82292849 0.74574347 0.78660613 0.59931896\n",
      " 0.81725312 0.82633371 0.92508513 0.60953462 0.78206583 0.46083995\n",
      " 0.71169126 0.15777526 0.7922815  0.33938706 0.29625426 0.94892168\n",
      " 0.17593644 0.38138479 0.37684449 0.54937571 0.61407491 0.51986379\n",
      " 0.80022701 0.37003405 0.53348468 0.89557321 0.31328036 0.861521\n",
      " 0.74801362 0.12485812 0.81157775 0.16572077 0.79455165 0.99091941\n",
      " 0.36889898 0.2338252  0.6492622  0.91032917 0.24517594 0.61520999\n",
      " 0.50283768 0.87287174 0.20544835 0.85130533 0.89784336 0.44948922\n",
      " 0.5368899  0.40408627 0.21339387 0.73439274 0.50510783 0.63337117\n",
      " 0.19182747 0.45289444 0.6061294  0.55278093 0.76390465 0.23496027\n",
      " 0.45743473 0.71396141 0.54824064 0.38592509 0.5323496  0.42565267\n",
      " 0.15550511 0.61861521 0.79682179 0.1906924  0.57207719 0.95800227\n",
      " 0.66515323 0.45402951 0.74233825 0.83427923 0.15323496 0.9262202\n",
      " 0.90238365 0.47673099 0.17934166 0.69920545 0.28376844 0.70488082\n",
      " 0.38819523 0.23836549 0.96594779 0.91486947 0.37116913 0.44835414\n",
      " 0.67196368 0.77752554 0.98524404 0.2599319  0.64358683 0.25198638\n",
      " 0.65039728 0.33825199 0.43927355 0.13961407 0.23155505 0.68104427\n",
      " 0.54143019 0.28717367 0.54483541 0.49829739 0.76844495 0.34279228\n",
      " 0.70261067 0.75028377 0.38024972 0.27922815 0.60726447 0.92395006\n",
      " 0.5153235  0.68331442 0.35754824 0.55732123 0.37570942 0.77525539\n",
      " 0.58115778 0.77866061 0.40522134 0.8830874  0.17480136 0.35641317\n",
      " 0.41770715 0.12939841 0.77639047 0.97162316 0.31555051 0.94097616\n",
      " 0.64131669 0.67650397 0.31895573 0.16345062 0.62202043 0.99659478\n",
      " 0.52440409 0.76730988 0.33371169 0.75936436 0.86946652 0.20204313\n",
      " 0.49262202 0.46424518 0.81271283 0.40862656 0.3677639  0.6322361\n",
      " 0.87854711 0.3291714  0.23269012 0.79795687 0.3723042  0.84903519\n",
      " 0.40181612 0.80703746 0.48013621 0.29965948 0.4415437  0.29171396\n",
      " 0.85811578 0.59591373 0.66401816 0.91827469 0.43700341 0.21906924\n",
      " 0.75482406 0.6276958  0.82519864 0.93757094 0.69125993 0.9784336\n",
      " 0.55618615 0.27355278 0.49489217 0.66742338 0.85925085 0.75368899\n",
      " 0.35981839 0.61748014 0.6753689  0.43813848 0.36322361 0.87968218\n",
      " 0.22814983 0.11804767 0.9568672  0.8138479  0.44040863 0.60839955\n",
      " 0.65493757 0.16685585 0.82406356 0.94324631 0.23041998 0.81952327\n",
      " 0.6015891  0.58683314 0.42111237 0.40295119 0.4846765  0.19977299\n",
      " 0.82065834 0.27014756 0.76276958 0.8183882  0.63564132 0.87741203\n",
      " 0.88649262 0.98864926 0.93416572 0.33711691 0.80249716 0.94211124\n",
      " 0.70942111 0.14074915 0.64585698 0.31668558 0.9046538  0.51418842\n",
      " 1.         0.51645857 0.53575482 0.62996595 0.26560726 0.85244041\n",
      " 0.93189557 0.99205448 0.82179342 0.99772985 0.40068104 0.89216799\n",
      " 0.6708286  0.46992054 0.75595914 0.24404086 0.54370034 0.23609535\n",
      " 0.12826334 0.53007946 0.12145289 0.21112372 0.98183882 0.584563\n",
      " 0.53802497 0.30646992 0.47559591 0.99432463 0.56640182 0.68671964\n",
      " 0.52780931 0.87400681 0.67309875 0.20885358 0.6969353  0.9091941\n",
      " 0.72871737 0.18842225 0.95913734 0.21793417 0.89897843 0.43359818\n",
      " 0.83087401 0.96821793 0.36435868 0.25766175 0.13620885 0.71623156\n",
      " 0.42451759 0.18728717 0.70601589 0.54710556 0.24858116 0.61180477\n",
      " 0.85357548 0.92167991 0.99886493 0.17253121 0.43473326 0.65947787\n",
      " 0.47332577 0.57548241 0.95119183 0.3507378  0.96140749 0.96367764\n",
      " 0.22020431 0.12258797 0.58796822 0.83654938 0.35527809 0.65720772\n",
      " 0.88195233 0.98410897 0.33257662 0.30192963 0.97275823 0.53461975\n",
      " 0.45970488 0.32690125 0.80136209 0.89103292 0.51759364 0.69807037\n",
      " 0.48694665 0.4199773  0.85017026 0.86265607 0.63110102 0.60045403\n",
      " 0.83314415 0.59137344 0.8093076  0.57094211 0.30079455 0.57661748\n",
      " 0.36549376 0.45629966 0.96254257 0.553916   0.24971623 0.86379115\n",
      " 0.27809308 0.63904654 0.49602724 0.32009081 0.72985244 0.84562997\n",
      " 0.84335982 0.93984109 0.55051078 0.19750284 0.87514188 0.36662883\n",
      " 0.87627696 0.31214529 0.5107832  0.22360953 0.1169126  0.75255392\n",
      " 0.36208854 0.5800227  0.30419977 0.49035187 0.22247446 0.3030647\n",
      " 0.72190692 0.49716232 0.26106697 0.55164586 0.72077185 0.74120318\n",
      " 0.56526674 0.16231555 0.42338252 0.31782066 0.17366629 0.2985244\n",
      " 0.49375709 0.96708286 0.4676504  0.83768445 0.18955732 0.42224745\n",
      " 0.19409762 0.93303065 0.17139614 0.19863791 0.75822928 0.34392736\n",
      " 0.13166856 0.26787741 0.59818388 0.51305335 0.30987514 0.79568672\n",
      " 0.33484677 0.71055619 0.67423383 0.12372304 0.9954597 ]\n",
      "Geography_France: [1 0]\n",
      "Geography_Germany: [0 1]\n",
      "Geography_Spain: [0 1]\n",
      "Gender_Female: [1 0]\n",
      "Gender_Male: [0 1]\n",
      "Card Type_DIAMOND: [1 0]\n",
      "Card Type_GOLD: [0 1]\n",
      "Card Type_PLATINUM: [0 1]\n",
      "Card Type_SILVER: [0 1]\n"
     ]
    }
   ],
   "source": [
    "for col  in df1:\n",
    "    print(f\"{col}: {df1[col].unique()}\")"
   ]
  },
  {
   "cell_type": "code",
   "execution_count": 108,
   "id": "d5708b36",
   "metadata": {},
   "outputs": [],
   "source": [
    "x=df1.drop(\"Exited\",axis=\"columns\")\n",
    "y=df1.Exited\n",
    "from sklearn.model_selection import train_test_split\n",
    "x_train,x_test,y_train,y_test=train_test_split(x,y,test_size=0.2,random_state=5)"
   ]
  },
  {
   "cell_type": "code",
   "execution_count": 109,
   "id": "5152babd",
   "metadata": {},
   "outputs": [
    {
     "data": {
      "text/plain": [
       "0    6367\n",
       "1    1633\n",
       "Name: Exited, dtype: int64"
      ]
     },
     "execution_count": 109,
     "metadata": {},
     "output_type": "execute_result"
    }
   ],
   "source": [
    "y_train.value_counts()"
   ]
  },
  {
   "cell_type": "code",
   "execution_count": 110,
   "id": "e912ba8e",
   "metadata": {},
   "outputs": [],
   "source": [
    "import tensorflow as tf\n",
    "from tensorflow import keras"
   ]
  },
  {
   "cell_type": "code",
   "execution_count": 111,
   "id": "f137ebb2",
   "metadata": {},
   "outputs": [
    {
     "data": {
      "text/plain": [
       "(8000, 20)"
      ]
     },
     "execution_count": 111,
     "metadata": {},
     "output_type": "execute_result"
    }
   ],
   "source": [
    "x_train.shape"
   ]
  },
  {
   "cell_type": "code",
   "execution_count": 112,
   "id": "7400e37f",
   "metadata": {},
   "outputs": [
    {
     "name": "stdout",
     "output_type": "stream",
     "text": [
      "Epoch 1/10\n",
      "250/250 [==============================] - 19s 31ms/step - loss: 0.3767 - accuracy: 0.8274\n",
      "Epoch 2/10\n",
      "250/250 [==============================] - 5s 19ms/step - loss: 0.0260 - accuracy: 0.9984\n",
      "Epoch 3/10\n",
      "250/250 [==============================] - 11s 45ms/step - loss: 0.0124 - accuracy: 0.9984\n",
      "Epoch 4/10\n",
      "250/250 [==============================] - 9s 35ms/step - loss: 0.0111 - accuracy: 0.9984\n",
      "Epoch 5/10\n",
      "250/250 [==============================] - 8s 31ms/step - loss: 0.0108 - accuracy: 0.9984\n",
      "Epoch 6/10\n",
      "250/250 [==============================] - 10s 41ms/step - loss: 0.0105 - accuracy: 0.9984\n",
      "Epoch 7/10\n",
      "250/250 [==============================] - 8s 34ms/step - loss: 0.0104 - accuracy: 0.9984\n",
      "Epoch 8/10\n",
      "250/250 [==============================] - 11s 45ms/step - loss: 0.0103 - accuracy: 0.9984\n",
      "Epoch 9/10\n",
      "250/250 [==============================] - 14s 55ms/step - loss: 0.0103 - accuracy: 0.9984\n",
      "Epoch 10/10\n",
      "250/250 [==============================] - 26s 103ms/step - loss: 0.0101 - accuracy: 0.9984\n"
     ]
    },
    {
     "data": {
      "text/plain": [
       "<keras.src.callbacks.History at 0x2916fab2680>"
      ]
     },
     "execution_count": 112,
     "metadata": {},
     "output_type": "execute_result"
    }
   ],
   "source": [
    "model=keras.Sequential([\n",
    "    keras.layers.Dense(20, input_shape=(20,),activation=\"relu\"),\n",
    "    keras.layers.Dense(15, activation=\"relu\"),\n",
    "    keras.layers.Dense(1, activation=\"sigmoid\")\n",
    "    \n",
    "    \n",
    "])\n",
    "\n",
    "model.compile(optimizer=\"adam\",\n",
    "              loss=\"binary_crossentropy\",\n",
    "              metrics=[\"accuracy\"]\n",
    "            \n",
    ")\n",
    "\n",
    "\n",
    "model.fit(x_train,y_train,epochs=10)"
   ]
  },
  {
   "cell_type": "code",
   "execution_count": 113,
   "id": "91918b1d",
   "metadata": {},
   "outputs": [
    {
     "name": "stdout",
     "output_type": "stream",
     "text": [
      "63/63 [==============================] - 8s 57ms/step - loss: 0.0058 - accuracy: 0.9995\n"
     ]
    },
    {
     "data": {
      "text/plain": [
       "[0.005821821745485067, 0.9994999766349792]"
      ]
     },
     "execution_count": 113,
     "metadata": {},
     "output_type": "execute_result"
    }
   ],
   "source": [
    "model.evaluate(x_test,y_test)"
   ]
  },
  {
   "cell_type": "code",
   "execution_count": 114,
   "id": "ea4e77f5",
   "metadata": {},
   "outputs": [
    {
     "name": "stdout",
     "output_type": "stream",
     "text": [
      "63/63 [==============================] - 5s 48ms/step\n"
     ]
    }
   ],
   "source": [
    "\n",
    "yp=model.predict(x_test)\n",
    "y_pred = []\n",
    "for element in yp:\n",
    "    if element > 0.5:\n",
    "        y_pred.append(1)\n",
    "    else:\n",
    "        y_pred.append(0)"
   ]
  },
  {
   "cell_type": "code",
   "execution_count": 115,
   "id": "9e3d5227",
   "metadata": {},
   "outputs": [],
   "source": [
    "from sklearn.metrics import confusion_matrix,classification_report"
   ]
  },
  {
   "cell_type": "code",
   "execution_count": 116,
   "id": "3f2fc845",
   "metadata": {},
   "outputs": [
    {
     "name": "stdout",
     "output_type": "stream",
     "text": [
      "              precision    recall  f1-score   support\n",
      "\n",
      "           0       1.00      1.00      1.00      1595\n",
      "           1       1.00      1.00      1.00       405\n",
      "\n",
      "    accuracy                           1.00      2000\n",
      "   macro avg       1.00      1.00      1.00      2000\n",
      "weighted avg       1.00      1.00      1.00      2000\n",
      "\n"
     ]
    }
   ],
   "source": [
    "print(classification_report(y_test,y_pred))"
   ]
  },
  {
   "cell_type": "code",
   "execution_count": 117,
   "id": "c81fcbb4",
   "metadata": {},
   "outputs": [
    {
     "data": {
      "text/plain": [
       "Text(95.72222222222221, 0.5, 'Truth')"
      ]
     },
     "execution_count": 117,
     "metadata": {},
     "output_type": "execute_result"
    },
    {
     "data": {
      "image/png": "[encoded data removed]",
      "text/plain": [
       "<Figure size 1000x700 with 2 Axes>"
      ]
     },
     "metadata": {},
     "output_type": "display_data"
    }
   ],
   "source": [
    "import seaborn as sn\n",
    "cm = tf.math.confusion_matrix(labels=y_test,predictions=y_pred)\n",
    "\n",
    "plt.figure(figsize = (10,7))\n",
    "sn.heatmap(cm, annot=True, fmt='d')\n",
    "plt.xlabel('Predicted')\n",
    "plt.ylabel('Truth')"
   ]
  },
  {
   "cell_type": "code",
   "execution_count": 118,
   "id": "949b4cdf",
   "metadata": {},
   "outputs": [
    {
     "name": "stdout",
     "output_type": "stream",
     "text": [
      "Epoch 1/10\n",
      "1000/1000 [==============================] - 82s 60ms/step - loss: 0.4448 - accuracy: 0.7908\n",
      "Epoch 2/10\n",
      "1000/1000 [==============================] - 54s 54ms/step - loss: 0.1512 - accuracy: 0.9300\n",
      "Epoch 3/10\n",
      "1000/1000 [==============================] - 63s 63ms/step - loss: 0.0812 - accuracy: 0.9744\n",
      "Epoch 4/10\n",
      "1000/1000 [==============================] - 64s 64ms/step - loss: 0.0715 - accuracy: 0.9834\n",
      "Epoch 5/10\n",
      "1000/1000 [==============================] - 43s 43ms/step - loss: 0.0584 - accuracy: 0.9849\n",
      "Epoch 6/10\n",
      "1000/1000 [==============================] - 36s 36ms/step - loss: 0.0544 - accuracy: 0.9871\n",
      "Epoch 7/10\n",
      "1000/1000 [==============================] - 30s 30ms/step - loss: 0.0609 - accuracy: 0.9851\n",
      "Epoch 8/10\n",
      "1000/1000 [==============================] - 10s 10ms/step - loss: 0.0493 - accuracy: 0.9896\n",
      "Epoch 9/10\n",
      "1000/1000 [==============================] - 7s 7ms/step - loss: 0.0539 - accuracy: 0.9856\n",
      "Epoch 10/10\n",
      "1000/1000 [==============================] - 7s 7ms/step - loss: 0.0452 - accuracy: 0.9886\n"
     ]
    },
    {
     "data": {
      "text/plain": [
       "<keras.src.callbacks.History at 0x29170fa5480>"
      ]
     },
     "execution_count": 118,
     "metadata": {},
     "output_type": "execute_result"
    }
   ],
   "source": [
    "modeld = keras.Sequential([\n",
    "    keras.layers.Dense(20, input_dim=20, activation='relu'),\n",
    "    keras.layers.Dropout(0.5),\n",
    "    keras.layers.Dense(15, activation='relu'),\n",
    "    keras.layers.Dropout(0.5),\n",
    "    keras.layers.Dense(10, activation='relu'),\n",
    "    keras.layers.Dropout(0.5),\n",
    "    keras.layers.Dense(1, activation='sigmoid')\n",
    "])\n",
    "\n",
    "modeld.compile(loss='binary_crossentropy', optimizer='adam', metrics=['accuracy'])\n",
    "\n",
    "modeld.fit(x_train, y_train, epochs=10, batch_size=8)"
   ]
  },
  {
   "cell_type": "code",
   "execution_count": 119,
   "id": "153c7d38",
   "metadata": {},
   "outputs": [
    {
     "name": "stdout",
     "output_type": "stream",
     "text": [
      "63/63 [==============================] - 4s 29ms/step - loss: 0.0072 - accuracy: 0.9995\n"
     ]
    },
    {
     "data": {
      "text/plain": [
       "[0.0072343479841947556, 0.9994999766349792]"
      ]
     },
     "execution_count": 119,
     "metadata": {},
     "output_type": "execute_result"
    }
   ],
   "source": [
    "modeld.evaluate(x_test,y_test)"
   ]
  },
  {
   "cell_type": "code",
   "execution_count": 120,
   "id": "aa6b6e22",
   "metadata": {},
   "outputs": [
    {
     "name": "stdout",
     "output_type": "stream",
     "text": [
      "              precision    recall  f1-score   support\n",
      "\n",
      "           0       1.00      1.00      1.00      1595\n",
      "           1       1.00      1.00      1.00       405\n",
      "\n",
      "    accuracy                           1.00      2000\n",
      "   macro avg       1.00      1.00      1.00      2000\n",
      "weighted avg       1.00      1.00      1.00      2000\n",
      "\n"
     ]
    }
   ],
   "source": [
    "print(classification_report(y_test,y_predt))"
   ]
  },
  {
   "cell_type": "code",
   "execution_count": 121,
   "id": "d02f5f6f",
   "metadata": {},
   "outputs": [],
   "source": [
    "def ANN(x_train, y_train, x_test, y_test, loss, weights):\n",
    "    model = keras.Sequential([\n",
    "        keras.layers.Dense(32, input_dim=20, activation='relu'),\n",
    "        keras.layers.Dense(16, activation='relu'),\n",
    "        keras.layers.Dense(1, activation='sigmoid')\n",
    "    ])\n",
    "\n",
    "    model.compile(optimizer='adam', loss=loss, metrics=['accuracy'])\n",
    "    \n",
    "    if weights == -1:\n",
    "        model.fit(x_train, y_train, epochs=10)\n",
    "    else:\n",
    "        model.fit(x_train, y_train, epochs=10, class_weight = weights)\n",
    "    \n",
    "    print(model.evaluate(x_test, y_test))\n",
    "    \n",
    "    y_preds = model.predict(x_test)\n",
    "    y_preds = np.round(y_preds)\n",
    "    \n",
    "    print(\"Classification Report: \\n\", classification_report(y_test, y_preds))\n",
    "    \n",
    "    return y_preds"
   ]
  },
  {
   "cell_type": "code",
   "execution_count": 122,
   "id": "2a2350ee",
   "metadata": {},
   "outputs": [],
   "source": [
    "count_exited_0,count_exited_1=df1.Exited.value_counts()\n",
    "df_exited_0=df1[df1[\"Exited\"]==0]\n",
    "df_exited_1=df1[df1[\"Exited\"]==1]"
   ]
  },
  {
   "cell_type": "code",
   "execution_count": 123,
   "id": "bdbcf497",
   "metadata": {},
   "outputs": [
    {
     "data": {
      "text/plain": [
       "0    2038\n",
       "1    2038\n",
       "Name: Exited, dtype: int64"
      ]
     },
     "execution_count": 123,
     "metadata": {},
     "output_type": "execute_result"
    }
   ],
   "source": [
    "df_exited_0_under=df_exited_0.sample(count_exited_1)\n",
    "df_test_under=pd.concat([df_exited_0_under,df_exited_1],axis=0)\n",
    "df_test_under.Exited.value_counts()"
   ]
  },
  {
   "cell_type": "code",
   "execution_count": 124,
   "id": "d7e1dedd",
   "metadata": {},
   "outputs": [],
   "source": [
    "x=df_test_under.drop(\"Exited\",axis=1)\n",
    "y=df_test_under.Exited\n",
    "\n",
    "\n",
    "from sklearn.model_selection import train_test_split\n",
    "x_train, x_test, y_train, y_test = train_test_split(x, y, test_size=0.2, random_state=15, stratify=y)"
   ]
  },
  {
   "cell_type": "code",
   "execution_count": 125,
   "id": "8b1037ab",
   "metadata": {},
   "outputs": [
    {
     "name": "stdout",
     "output_type": "stream",
     "text": [
      "Epoch 1/10\n",
      "102/102 [==============================] - 6s 11ms/step - loss: 0.5906 - accuracy: 0.7831\n",
      "Epoch 2/10\n",
      "102/102 [==============================] - 1s 12ms/step - loss: 0.1953 - accuracy: 0.9960\n",
      "Epoch 3/10\n",
      "102/102 [==============================] - 1s 10ms/step - loss: 0.0326 - accuracy: 0.9985\n",
      "Epoch 4/10\n",
      "102/102 [==============================] - 1s 11ms/step - loss: 0.0163 - accuracy: 0.9985\n",
      "Epoch 5/10\n",
      "102/102 [==============================] - 2s 18ms/step - loss: 0.0129 - accuracy: 0.9985\n",
      "Epoch 6/10\n",
      "102/102 [==============================] - 2s 16ms/step - loss: 0.0118 - accuracy: 0.9985\n",
      "Epoch 7/10\n",
      "102/102 [==============================] - 2s 18ms/step - loss: 0.0111 - accuracy: 0.9985\n",
      "Epoch 8/10\n",
      "102/102 [==============================] - 2s 18ms/step - loss: 0.0106 - accuracy: 0.9985\n",
      "Epoch 9/10\n",
      "102/102 [==============================] - 1s 13ms/step - loss: 0.0108 - accuracy: 0.9985\n",
      "Epoch 10/10\n",
      "102/102 [==============================] - 2s 20ms/step - loss: 0.0103 - accuracy: 0.9985\n",
      "26/26 [==============================] - 2s 12ms/step - loss: 0.0087 - accuracy: 0.9988\n",
      "[0.008701570332050323, 0.998774528503418]\n",
      "26/26 [==============================] - 1s 6ms/step\n",
      "Classification Report: \n",
      "               precision    recall  f1-score   support\n",
      "\n",
      "           0       1.00      1.00      1.00       408\n",
      "           1       1.00      1.00      1.00       408\n",
      "\n",
      "    accuracy                           1.00       816\n",
      "   macro avg       1.00      1.00      1.00       816\n",
      "weighted avg       1.00      1.00      1.00       816\n",
      "\n"
     ]
    }
   ],
   "source": [
    "y_pred= ANN(x_train, y_train, x_test, y_test, 'binary_crossentropy', -1)"
   ]
  },
  {
   "cell_type": "code",
   "execution_count": 126,
   "id": "e844d332",
   "metadata": {},
   "outputs": [
    {
     "name": "stdout",
     "output_type": "stream",
     "text": [
      "Random over-sampling:\n",
      "1    7962\n",
      "0    7962\n",
      "Name: Exited, dtype: int64\n"
     ]
    }
   ],
   "source": [
    "# Oversample 1-class and concat the DataFrames of both classes\n",
    "df_exited_0_over = df_exited_1.sample(count_exited_0, replace=True)\n",
    "df_test_over = pd.concat([df_exited_0_over, df_exited_0], axis=0)\n",
    "\n",
    "print('Random over-sampling:')\n",
    "print(df_test_over.Exited.value_counts())\n",
    "\n",
    "\n",
    " "
   ]
  },
  {
   "cell_type": "code",
   "execution_count": 127,
   "id": "f52a34cc",
   "metadata": {},
   "outputs": [],
   "source": [
    "X = df_test_over.drop(\"Exited\",axis='columns')\n",
    "y = df_test_over['Exited']\n",
    "\n",
    "from sklearn.model_selection import train_test_split\n",
    "X_train, X_test, y_train, y_test = train_test_split(X, y, test_size=0.2, random_state=15, stratify=y)"
   ]
  },
  {
   "cell_type": "code",
   "execution_count": 128,
   "id": "33aecbbe",
   "metadata": {},
   "outputs": [
    {
     "name": "stdout",
     "output_type": "stream",
     "text": [
      "Epoch 1/10\n",
      "399/399 [==============================] - 10s 10ms/step - loss: 0.1942 - accuracy: 0.9505\n",
      "Epoch 2/10\n",
      "399/399 [==============================] - 3s 8ms/step - loss: 0.0151 - accuracy: 0.9977\n",
      "Epoch 3/10\n",
      "399/399 [==============================] - 3s 8ms/step - loss: 0.0137 - accuracy: 0.9977\n",
      "Epoch 4/10\n",
      "399/399 [==============================] - 5s 13ms/step - loss: 0.0126 - accuracy: 0.9977\n",
      "Epoch 5/10\n",
      "399/399 [==============================] - 6s 15ms/step - loss: 0.0124 - accuracy: 0.9977\n",
      "Epoch 6/10\n",
      "399/399 [==============================] - 6s 14ms/step - loss: 0.0121 - accuracy: 0.9980\n",
      "Epoch 7/10\n",
      "399/399 [==============================] - 5s 13ms/step - loss: 0.0116 - accuracy: 0.9980\n",
      "Epoch 8/10\n",
      "399/399 [==============================] - 5s 13ms/step - loss: 0.0112 - accuracy: 0.9980\n",
      "Epoch 9/10\n",
      "399/399 [==============================] - 6s 14ms/step - loss: 0.0106 - accuracy: 0.9983\n",
      "Epoch 10/10\n",
      "399/399 [==============================] - 5s 13ms/step - loss: 0.0104 - accuracy: 0.9981\n",
      "100/100 [==============================] - 2s 15ms/step - loss: 0.0047 - accuracy: 0.9994\n",
      "[0.004736578557640314, 0.9993720650672913]\n",
      "100/100 [==============================] - 1s 10ms/step\n",
      "Classification Report: \n",
      "               precision    recall  f1-score   support\n",
      "\n",
      "           0       1.00      1.00      1.00      1593\n",
      "           1       1.00      1.00      1.00      1592\n",
      "\n",
      "    accuracy                           1.00      3185\n",
      "   macro avg       1.00      1.00      1.00      3185\n",
      "weighted avg       1.00      1.00      1.00      3185\n",
      "\n"
     ]
    }
   ],
   "source": [
    "loss = keras.losses.BinaryCrossentropy()\n",
    "weights = -1\n",
    "y_preds = ANN(X_train, y_train, X_test, y_test, 'binary_crossentropy', -1)"
   ]
  },
  {
   "cell_type": "code",
   "execution_count": 129,
   "id": "2e75700c",
   "metadata": {},
   "outputs": [],
   "source": [
    "x=df1.drop(\"Exited\",axis=1)\n",
    "y=df1.Exited"
   ]
  },
  {
   "cell_type": "code",
   "execution_count": 130,
   "id": "b926b5dc",
   "metadata": {},
   "outputs": [],
   "source": [
    "from imblearn.over_sampling import SMOTE\n",
    "smote=SMOTE(sampling_strategy=\"minority\")\n",
    "x_sm,y_sm=smote.fit_resample(x,y)"
   ]
  },
  {
   "cell_type": "code",
   "execution_count": 131,
   "id": "de5f7ff9",
   "metadata": {},
   "outputs": [
    {
     "data": {
      "text/plain": [
       "1    7962\n",
       "0    7962\n",
       "Name: Exited, dtype: int64"
      ]
     },
     "execution_count": 131,
     "metadata": {},
     "output_type": "execute_result"
    }
   ],
   "source": [
    "y_sm.value_counts()"
   ]
  },
  {
   "cell_type": "code",
   "execution_count": 132,
   "id": "0ce3e78d",
   "metadata": {},
   "outputs": [],
   "source": [
    "from sklearn.model_selection import train_test_split\n",
    "X_train, X_test, y_train, y_test = train_test_split(x_sm, y_sm, test_size=0.2, random_state=15, stratify=y_sm)"
   ]
  },
  {
   "cell_type": "code",
   "execution_count": 133,
   "id": "79846ef6",
   "metadata": {},
   "outputs": [
    {
     "name": "stdout",
     "output_type": "stream",
     "text": [
      "Epoch 1/10\n",
      "399/399 [==============================] - 8s 10ms/step - loss: 0.2034 - accuracy: 0.9521\n",
      "Epoch 2/10\n",
      "399/399 [==============================] - 4s 11ms/step - loss: 0.0101 - accuracy: 0.9985\n",
      "Epoch 3/10\n",
      "399/399 [==============================] - 5s 13ms/step - loss: 0.0094 - accuracy: 0.9986\n",
      "Epoch 4/10\n",
      "399/399 [==============================] - 5s 12ms/step - loss: 0.0088 - accuracy: 0.9986\n",
      "Epoch 5/10\n",
      "399/399 [==============================] - 5s 14ms/step - loss: 0.0081 - accuracy: 0.9987\n",
      "Epoch 6/10\n",
      "399/399 [==============================] - 5s 14ms/step - loss: 0.0086 - accuracy: 0.9987\n",
      "Epoch 7/10\n",
      "399/399 [==============================] - 6s 16ms/step - loss: 0.0079 - accuracy: 0.9988\n",
      "Epoch 8/10\n",
      "399/399 [==============================] - 6s 16ms/step - loss: 0.0080 - accuracy: 0.9987\n",
      "Epoch 9/10\n",
      "399/399 [==============================] - 9s 21ms/step - loss: 0.0077 - accuracy: 0.9987\n",
      "Epoch 10/10\n",
      "399/399 [==============================] - 8s 20ms/step - loss: 0.0070 - accuracy: 0.9987\n",
      "100/100 [==============================] - 3s 18ms/step - loss: 0.0030 - accuracy: 0.9997\n",
      "[0.0030485426541417837, 0.9996860027313232]\n",
      "100/100 [==============================] - 2s 19ms/step\n",
      "Classification Report: \n",
      "               precision    recall  f1-score   support\n",
      "\n",
      "           0       1.00      1.00      1.00      1593\n",
      "           1       1.00      1.00      1.00      1592\n",
      "\n",
      "    accuracy                           1.00      3185\n",
      "   macro avg       1.00      1.00      1.00      3185\n",
      "weighted avg       1.00      1.00      1.00      3185\n",
      "\n"
     ]
    }
   ],
   "source": [
    "y_preds = ANN(X_train, y_train, X_test, y_test, 'binary_crossentropy', -1)"
   ]
  },
  {
   "cell_type": "code",
   "execution_count": 134,
   "id": "9a0faaf7",
   "metadata": {},
   "outputs": [],
   "source": [
    "df2 = X_train.copy()\n",
    "df2['Exited'] = y_train"
   ]
  },
  {
   "cell_type": "code",
   "execution_count": 135,
   "id": "38b3911c",
   "metadata": {},
   "outputs": [
    {
     "data": {
      "text/html": [
       "<div>\n",
       "<style scoped>\n",
       "    .dataframe tbody tr th:only-of-type {\n",
       "        vertical-align: middle;\n",
       "    }\n",
       "\n",
       "    .dataframe tbody tr th {\n",
       "        vertical-align: top;\n",
       "    }\n",
       "\n",
       "    .dataframe thead th {\n",
       "        text-align: right;\n",
       "    }\n",
       "</style>\n",
       "<table border=\"1\" class=\"dataframe\">\n",
       "  <thead>\n",
       "    <tr style=\"text-align: right;\">\n",
       "      <th></th>\n",
       "      <th>CreditScore</th>\n",
       "      <th>Age</th>\n",
       "      <th>Tenure</th>\n",
       "      <th>Balance</th>\n",
       "      <th>NumOfProducts</th>\n",
       "      <th>HasCrCard</th>\n",
       "      <th>IsActiveMember</th>\n",
       "      <th>EstimatedSalary</th>\n",
       "      <th>Complain</th>\n",
       "      <th>Satisfaction Score</th>\n",
       "      <th>...</th>\n",
       "      <th>Geography_France</th>\n",
       "      <th>Geography_Germany</th>\n",
       "      <th>Geography_Spain</th>\n",
       "      <th>Gender_Female</th>\n",
       "      <th>Gender_Male</th>\n",
       "      <th>Card Type_DIAMOND</th>\n",
       "      <th>Card Type_GOLD</th>\n",
       "      <th>Card Type_PLATINUM</th>\n",
       "      <th>Card Type_SILVER</th>\n",
       "      <th>Exited</th>\n",
       "    </tr>\n",
       "  </thead>\n",
       "  <tbody>\n",
       "    <tr>\n",
       "      <th>8145</th>\n",
       "      <td>1.000000</td>\n",
       "      <td>0.256757</td>\n",
       "      <td>0.900000</td>\n",
       "      <td>0.000000</td>\n",
       "      <td>0.000000</td>\n",
       "      <td>0</td>\n",
       "      <td>0</td>\n",
       "      <td>0.500495</td>\n",
       "      <td>0.0</td>\n",
       "      <td>1.000000</td>\n",
       "      <td>...</td>\n",
       "      <td>1</td>\n",
       "      <td>0</td>\n",
       "      <td>0</td>\n",
       "      <td>1</td>\n",
       "      <td>0</td>\n",
       "      <td>1</td>\n",
       "      <td>0</td>\n",
       "      <td>0</td>\n",
       "      <td>0</td>\n",
       "      <td>0</td>\n",
       "    </tr>\n",
       "    <tr>\n",
       "      <th>13595</th>\n",
       "      <td>0.342181</td>\n",
       "      <td>0.508279</td>\n",
       "      <td>0.216199</td>\n",
       "      <td>0.455581</td>\n",
       "      <td>0.000000</td>\n",
       "      <td>1</td>\n",
       "      <td>0</td>\n",
       "      <td>0.851830</td>\n",
       "      <td>1.0</td>\n",
       "      <td>0.346833</td>\n",
       "      <td>...</td>\n",
       "      <td>0</td>\n",
       "      <td>0</td>\n",
       "      <td>1</td>\n",
       "      <td>1</td>\n",
       "      <td>0</td>\n",
       "      <td>0</td>\n",
       "      <td>1</td>\n",
       "      <td>0</td>\n",
       "      <td>0</td>\n",
       "      <td>1</td>\n",
       "    </tr>\n",
       "    <tr>\n",
       "      <th>3487</th>\n",
       "      <td>0.642000</td>\n",
       "      <td>0.175676</td>\n",
       "      <td>0.700000</td>\n",
       "      <td>0.164605</td>\n",
       "      <td>0.000000</td>\n",
       "      <td>0</td>\n",
       "      <td>1</td>\n",
       "      <td>0.513398</td>\n",
       "      <td>0.0</td>\n",
       "      <td>0.500000</td>\n",
       "      <td>...</td>\n",
       "      <td>1</td>\n",
       "      <td>0</td>\n",
       "      <td>0</td>\n",
       "      <td>1</td>\n",
       "      <td>0</td>\n",
       "      <td>1</td>\n",
       "      <td>0</td>\n",
       "      <td>0</td>\n",
       "      <td>0</td>\n",
       "      <td>0</td>\n",
       "    </tr>\n",
       "    <tr>\n",
       "      <th>5039</th>\n",
       "      <td>0.620000</td>\n",
       "      <td>0.270270</td>\n",
       "      <td>0.500000</td>\n",
       "      <td>0.440700</td>\n",
       "      <td>0.333333</td>\n",
       "      <td>1</td>\n",
       "      <td>0</td>\n",
       "      <td>0.979569</td>\n",
       "      <td>0.0</td>\n",
       "      <td>0.000000</td>\n",
       "      <td>...</td>\n",
       "      <td>1</td>\n",
       "      <td>0</td>\n",
       "      <td>0</td>\n",
       "      <td>1</td>\n",
       "      <td>0</td>\n",
       "      <td>0</td>\n",
       "      <td>0</td>\n",
       "      <td>0</td>\n",
       "      <td>1</td>\n",
       "      <td>0</td>\n",
       "    </tr>\n",
       "    <tr>\n",
       "      <th>6001</th>\n",
       "      <td>0.850000</td>\n",
       "      <td>0.162162</td>\n",
       "      <td>0.500000</td>\n",
       "      <td>0.000000</td>\n",
       "      <td>0.000000</td>\n",
       "      <td>1</td>\n",
       "      <td>0</td>\n",
       "      <td>0.969438</td>\n",
       "      <td>1.0</td>\n",
       "      <td>1.000000</td>\n",
       "      <td>...</td>\n",
       "      <td>1</td>\n",
       "      <td>0</td>\n",
       "      <td>0</td>\n",
       "      <td>1</td>\n",
       "      <td>0</td>\n",
       "      <td>1</td>\n",
       "      <td>0</td>\n",
       "      <td>0</td>\n",
       "      <td>0</td>\n",
       "      <td>1</td>\n",
       "    </tr>\n",
       "  </tbody>\n",
       "</table>\n",
       "<p>5 rows × 21 columns</p>\n",
       "</div>"
      ],
      "text/plain": [
       "       CreditScore       Age    Tenure   Balance  NumOfProducts  HasCrCard  \\\n",
       "8145      1.000000  0.256757  0.900000  0.000000       0.000000          0   \n",
       "13595     0.342181  0.508279  0.216199  0.455581       0.000000          1   \n",
       "3487      0.642000  0.175676  0.700000  0.164605       0.000000          0   \n",
       "5039      0.620000  0.270270  0.500000  0.440700       0.333333          1   \n",
       "6001      0.850000  0.162162  0.500000  0.000000       0.000000          1   \n",
       "\n",
       "       IsActiveMember  EstimatedSalary  Complain  Satisfaction Score  ...  \\\n",
       "8145                0         0.500495       0.0            1.000000  ...   \n",
       "13595               0         0.851830       1.0            0.346833  ...   \n",
       "3487                1         0.513398       0.0            0.500000  ...   \n",
       "5039                0         0.979569       0.0            0.000000  ...   \n",
       "6001                0         0.969438       1.0            1.000000  ...   \n",
       "\n",
       "       Geography_France  Geography_Germany  Geography_Spain  Gender_Female  \\\n",
       "8145                  1                  0                0              1   \n",
       "13595                 0                  0                1              1   \n",
       "3487                  1                  0                0              1   \n",
       "5039                  1                  0                0              1   \n",
       "6001                  1                  0                0              1   \n",
       "\n",
       "       Gender_Male  Card Type_DIAMOND  Card Type_GOLD  Card Type_PLATINUM  \\\n",
       "8145             0                  1               0                   0   \n",
       "13595            0                  0               1                   0   \n",
       "3487             0                  1               0                   0   \n",
       "5039             0                  0               0                   0   \n",
       "6001             0                  1               0                   0   \n",
       "\n",
       "       Card Type_SILVER  Exited  \n",
       "8145                  0       0  \n",
       "13595                 0       1  \n",
       "3487                  0       0  \n",
       "5039                  1       0  \n",
       "6001                  0       1  \n",
       "\n",
       "[5 rows x 21 columns]"
      ]
     },
     "execution_count": 135,
     "metadata": {},
     "output_type": "execute_result"
    }
   ],
   "source": [
    "df2.head()"
   ]
  },
  {
   "cell_type": "code",
   "execution_count": 136,
   "id": "3e4b0702",
   "metadata": {},
   "outputs": [],
   "source": [
    "df_exited0=df1[df1[\"Exited\"]==9]\n",
    "df_exited1=df1[df1[\"Exited\"]==1]"
   ]
  },
  {
   "cell_type": "code",
   "execution_count": 137,
   "id": "34b61c06",
   "metadata": {},
   "outputs": [],
   "source": [
    "def get_train_batch(df_majority,df_mnority,start,end):\n",
    "    df_train=pd.concat([df_majority[start:end],df_mnority],axis=1)\n",
    "    \n",
    "    x_train=df_train.drop(\"Exited\",axis=1)\n",
    "    y_train=df_train.Exited\n",
    "    \n",
    "    return x_train,y_train\n",
    "    "
   ]
  },
  {
   "cell_type": "code",
   "execution_count": 139,
   "id": "97b8b898",
   "metadata": {},
   "outputs": [
    {
     "data": {
      "text/plain": [
       "(3260, 20)"
      ]
     },
     "execution_count": 139,
     "metadata": {},
     "output_type": "execute_result"
    }
   ],
   "source": [
    "x_train.shape"
   ]
  },
  {
   "cell_type": "code",
   "execution_count": 140,
   "id": "10104d9a",
   "metadata": {},
   "outputs": [],
   "source": []
  },
  {
   "cell_type": "code",
   "execution_count": 141,
   "id": "dc6a234a",
   "metadata": {},
   "outputs": [
    {
     "data": {
      "text/html": [
       "<div>\n",
       "<style scoped>\n",
       "    .dataframe tbody tr th:only-of-type {\n",
       "        vertical-align: middle;\n",
       "    }\n",
       "\n",
       "    .dataframe tbody tr th {\n",
       "        vertical-align: top;\n",
       "    }\n",
       "\n",
       "    .dataframe thead th {\n",
       "        text-align: right;\n",
       "    }\n",
       "</style>\n",
       "<table border=\"1\" class=\"dataframe\">\n",
       "  <thead>\n",
       "    <tr style=\"text-align: right;\">\n",
       "      <th></th>\n",
       "      <th>CreditScore</th>\n",
       "      <th>Age</th>\n",
       "      <th>Tenure</th>\n",
       "      <th>Balance</th>\n",
       "      <th>NumOfProducts</th>\n",
       "      <th>HasCrCard</th>\n",
       "      <th>IsActiveMember</th>\n",
       "      <th>EstimatedSalary</th>\n",
       "      <th>Complain</th>\n",
       "      <th>Satisfaction Score</th>\n",
       "      <th>...</th>\n",
       "      <th>Point Earned</th>\n",
       "      <th>Geography_France</th>\n",
       "      <th>Geography_Germany</th>\n",
       "      <th>Geography_Spain</th>\n",
       "      <th>Gender_Female</th>\n",
       "      <th>Gender_Male</th>\n",
       "      <th>Card Type_DIAMOND</th>\n",
       "      <th>Card Type_GOLD</th>\n",
       "      <th>Card Type_PLATINUM</th>\n",
       "      <th>Card Type_SILVER</th>\n",
       "    </tr>\n",
       "  </thead>\n",
       "  <tbody>\n",
       "    <tr>\n",
       "      <th>3130</th>\n",
       "      <td>NaN</td>\n",
       "      <td>NaN</td>\n",
       "      <td>NaN</td>\n",
       "      <td>NaN</td>\n",
       "      <td>NaN</td>\n",
       "      <td>NaN</td>\n",
       "      <td>NaN</td>\n",
       "      <td>NaN</td>\n",
       "      <td>NaN</td>\n",
       "      <td>NaN</td>\n",
       "      <td>...</td>\n",
       "      <td>0.631101</td>\n",
       "      <td>0</td>\n",
       "      <td>0</td>\n",
       "      <td>1</td>\n",
       "      <td>1</td>\n",
       "      <td>0</td>\n",
       "      <td>0</td>\n",
       "      <td>0</td>\n",
       "      <td>1</td>\n",
       "      <td>0</td>\n",
       "    </tr>\n",
       "  </tbody>\n",
       "</table>\n",
       "<p>1 rows × 40 columns</p>\n",
       "</div>"
      ],
      "text/plain": [
       "      CreditScore  Age  Tenure  Balance  NumOfProducts  HasCrCard  \\\n",
       "3130          NaN  NaN     NaN      NaN            NaN        NaN   \n",
       "\n",
       "      IsActiveMember  EstimatedSalary  Complain  Satisfaction Score  ...  \\\n",
       "3130             NaN              NaN       NaN                 NaN  ...   \n",
       "\n",
       "      Point Earned  Geography_France  Geography_Germany  Geography_Spain  \\\n",
       "3130      0.631101                 0                  0                1   \n",
       "\n",
       "      Gender_Female  Gender_Male  Card Type_DIAMOND  Card Type_GOLD  \\\n",
       "3130              1            0                  0               0   \n",
       "\n",
       "      Card Type_PLATINUM  Card Type_SILVER  \n",
       "3130                   1                 0  \n",
       "\n",
       "[1 rows x 40 columns]"
      ]
     },
     "execution_count": 141,
     "metadata": {},
     "output_type": "execute_result"
    }
   ],
   "source": [
    "X_train.sample()"
   ]
  },
  {
   "cell_type": "code",
   "execution_count": null,
   "id": "aaeefc86",
   "metadata": {},
   "outputs": [],
   "source": []
  },
  {
   "cell_type": "code",
   "execution_count": null,
   "id": "800b0154",
   "metadata": {},
   "outputs": [],
   "source": []
  }
 ],
 "metadata": {
  "kernelspec": {
   "display_name": "Python 3 (ipykernel)",
   "language": "python",
   "name": "python3"
  },
  "language_info": {
   "codemirror_mode": {
    "name": "ipython",
    "version": 3
   },
   "file_extension": ".py",
   "mimetype": "text/x-python",
   "name": "python",
   "nbconvert_exporter": "python",
   "pygments_lexer": "ipython3",
   "version": "3.10.9"
  }
 },
 "nbformat": 4,
 "nbformat_minor": 5
}
